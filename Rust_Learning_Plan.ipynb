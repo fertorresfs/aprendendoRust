{
  "nbformat": 4,
  "nbformat_minor": 0,
  "metadata": {
    "colab": {
      "provenance": [],
      "authorship_tag": "ABX9TyPNCu/p34ltVaRsJqyq60Ew",
      "include_colab_link": true
    },
    "kernelspec": {
      "name": "python3",
      "display_name": "Python 3"
    },
    "language_info": {
      "name": "python"
    }
  },
  "cells": [
    {
      "cell_type": "markdown",
      "metadata": {
        "id": "view-in-github",
        "colab_type": "text"
      },
      "source": [
        "<a href=\"https://colab.research.google.com/github/fertorresfs/aprendendoRust/blob/main/Rust_Learning_Plan.ipynb\" target=\"_parent\"><img src=\"https://colab.research.google.com/assets/colab-badge.svg\" alt=\"Open In Colab\"/></a>"
      ]
    },
    {
      "cell_type": "markdown",
      "source": [
        "# Rust Learning Plan"
      ],
      "metadata": {
        "id": "EoqOhtOs1zsa"
      }
    },
    {
      "cell_type": "markdown",
      "source": [
        "Vamos então instalar o Rust no Google Colab. Siga estes passos:\n",
        "\n",
        "Passos para Instalar Rust no Google Colab\n",
        "\n",
        "Abra um Novo Notebook no Google Colab:\n",
        "\n",
        "Acesse o Google Colab em https://colab.research.google.com\n",
        "\n",
        "Clique em \"Novo Notebook\".\n",
        "\n",
        "Execute os Seguintes Comandos em Uma Célula de Código:\n",
        "\n",
        "Copie e cole o seguinte código em uma célula do seu notebook:"
      ],
      "metadata": {
        "id": "JzjeY5qM5meT"
      }
    },
    {
      "cell_type": "code",
      "source": [
        "!curl --proto '=https' --tlsv1.2 -sSf https://sh.rustup.rs | sh -s -- -y\n",
        "!source $HOME/.cargo/env"
      ],
      "metadata": {
        "colab": {
          "base_uri": "https://localhost:8080/"
        },
        "id": "vVgG854P195t",
        "outputId": "4b2fde46-4529-4088-b08b-e04c3b8c75b2"
      },
      "execution_count": 9,
      "outputs": [
        {
          "output_type": "stream",
          "name": "stdout",
          "text": [
            "\u001b[1minfo:\u001b[0m downloading installer\n",
            "\u001b[0m\u001b[33m\u001b[0m\u001b[1m\u001b[33mwarning: \u001b[0mit looks like you have an existing installation of Rust at:\n",
            "\u001b[0m\u001b[33m\u001b[0m\u001b[1m\u001b[33mwarning: \u001b[0m/usr/bin\n",
            "\u001b[0m\u001b[33m\u001b[0m\u001b[1m\u001b[33mwarning: \u001b[0mIt is recommended that rustup be the primary Rust installation.\n",
            "\u001b[0m\u001b[33m\u001b[0m\u001b[1m\u001b[33mwarning: \u001b[0mOtherwise you may have confusion unless you are careful with your PATH\n",
            "\u001b[0m\u001b[33m\u001b[0m\u001b[1m\u001b[33mwarning: \u001b[0mIf you are sure that you want both rustup and your already installed Rust\n",
            "\u001b[0m\u001b[33m\u001b[0m\u001b[1m\u001b[33mwarning: \u001b[0mthen please reply `y' or `yes' or set RUSTUP_INIT_SKIP_PATH_CHECK to yes\n",
            "\u001b[0m\u001b[33m\u001b[0m\u001b[1m\u001b[33mwarning: \u001b[0mor pass `-y' to ignore all ignorable checks.\n",
            "\u001b[0m\u001b[31m\u001b[0m\u001b[1m\u001b[31merror: \u001b[0mcannot install while Rust is installed\n",
            "\u001b[0m\u001b[33m\u001b[0m\u001b[1m\u001b[33mwarning: \u001b[0mcontinuing (because the -y flag is set and the error is ignorable)\n",
            "\u001b[0m\u001b[1minfo: \u001b[0mprofile set to 'default'\n",
            "\u001b[0m\u001b[1minfo: \u001b[0mdefault host triple is x86_64-unknown-linux-gnu\n",
            "\u001b[0m\u001b[1minfo: \u001b[0msyncing channel updates for 'stable-x86_64-unknown-linux-gnu'\n",
            "\u001b[0m\u001b[1minfo: \u001b[0mlatest update on 2025-01-09, rust version 1.84.0 (9fc6b4312 2025-01-07)\n",
            "\u001b[0m\u001b[1minfo: \u001b[0mdownloading component 'cargo'\n",
            "\u001b[0m\u001b[1minfo: \u001b[0mdownloading component 'clippy'\n",
            "\u001b[0m\u001b[1minfo: \u001b[0mdownloading component 'rust-docs'\n",
            "\u001b[0m\u001b[1minfo: \u001b[0mdownloading component 'rust-std'\n",
            "\u001b[0m\u001b[1minfo: \u001b[0mdownloading component 'rustc'\n",
            " 70.6 MiB /  70.6 MiB (100 %)  62.5 MiB/s in  1s ETA:  0s\n",
            "\u001b[0m\u001b[1minfo: \u001b[0mdownloading component 'rustfmt'\n",
            "\u001b[0m\u001b[1minfo: \u001b[0minstalling component 'cargo'\n",
            "\u001b[0m\u001b[1minfo: \u001b[0minstalling component 'clippy'\n",
            "\u001b[0m\u001b[1minfo: \u001b[0minstalling component 'rust-docs'\n",
            " 16.5 MiB /  16.5 MiB (100 %)   1.8 MiB/s in  8s ETA:  0s\n",
            "\u001b[0m\u001b[1minfo: \u001b[0minstalling component 'rust-std'\n",
            " 29.0 MiB /  29.0 MiB (100 %)   6.7 MiB/s in  4s ETA:  0s\n",
            "\u001b[0m\u001b[1minfo: \u001b[0minstalling component 'rustc'\n",
            " 70.6 MiB /  70.6 MiB (100 %)   9.4 MiB/s in  8s ETA:  0s\n",
            "\u001b[0m\u001b[1minfo: \u001b[0minstalling component 'rustfmt'\n",
            "\u001b[0m\u001b[1minfo: \u001b[0mdefault toolchain set to 'stable-x86_64-unknown-linux-gnu'\n",
            "\n",
            "  \u001b[0m\u001b[1m\u001b[0m\u001b[1m\u001b[32mstable-x86_64-unknown-linux-gnu installed\u001b[0m - rustc 1.84.0 (9fc6b4312 2025-01-07)\n",
            "\n",
            "\u001b[0m\u001b[1m\n",
            "Rust is installed now. Great!\n",
            "\u001b[0m\n",
            "To get started you may need to restart your current shell.\n",
            "This would reload your \u001b[0m\u001b[1mPATH\u001b[0m environment variable to include\n",
            "Cargo's bin directory ($HOME/.cargo/bin).\n",
            "\n",
            "To configure your current shell, you need to source\n",
            "the corresponding \u001b[0m\u001b[1menv\u001b[0m file under $HOME/.cargo.\n",
            "\n",
            "This is usually done by running one of the following (note the leading DOT):\n",
            ". \"$HOME/.cargo/env\"            # For sh/bash/zsh/ash/dash/pdksh\n",
            "source \"$HOME/.cargo/env.fish\"  # For fish\n"
          ]
        }
      ]
    },
    {
      "cell_type": "markdown",
      "source": [
        "Explicação:\n",
        "\n",
        "!: Esse símbolo diz ao Colab para executar um comando no terminal do sistema operacional do ambiente virtual.\n",
        "\n",
        "curl ... | sh -s -- -y: Este é o comando para baixar e executar o script de instalação do Rust. O -y responde \"sim\" para todas as perguntas durante a instalação, tornando o processo mais fácil.\n",
        "\n",
        "source $HOME/.cargo/env: Este comando carrega as variáveis de ambiente do Rust no seu ambiente do Colab, para que você possa usar os comandos do Rust no terminal.\n",
        "\n",
        "Execute a Célula: Clique no botão de \"play\" (ou pressione Shift+Enter) para executar esta célula. A instalação pode levar alguns minutos, dependendo da velocidade da sua conexão com a internet.\n",
        "\n",
        "Verifique a Instalação:\n",
        "\n",
        "Após a instalação, execute o seguinte comando em uma nova célula de código:"
      ],
      "metadata": {
        "id": "zyBusPfk5rIQ"
      }
    },
    {
      "cell_type": "code",
      "execution_count": 10,
      "metadata": {
        "colab": {
          "base_uri": "https://localhost:8080/"
        },
        "id": "QLZYF0ka1xr8",
        "outputId": "a285f5d2-f854-4753-cf0e-b5b261e5dc71"
      },
      "outputs": [
        {
          "output_type": "stream",
          "name": "stdout",
          "text": [
            "rustc 1.75.0 (82e1608df 2023-12-21) (built from a source tarball)\n"
          ]
        }
      ],
      "source": [
        "!rustc --version"
      ]
    },
    {
      "cell_type": "code",
      "source": [
        "!cargo --version"
      ],
      "metadata": {
        "id": "NP5_I0iq3PIK"
      },
      "execution_count": null,
      "outputs": []
    },
    {
      "cell_type": "markdown",
      "source": [
        "Verifique a Variável de Ambiente PATH:\n",
        "\n",
        "Execute a seguinte célula no seu Colab para ver se o diretório do cargo está na variável PATH:"
      ],
      "metadata": {
        "id": "MpXEaPgP6Lum"
      }
    },
    {
      "cell_type": "code",
      "source": [
        "!echo $PATH"
      ],
      "metadata": {
        "colab": {
          "base_uri": "https://localhost:8080/"
        },
        "id": "zUVDcy033AgJ",
        "outputId": "c632b325-12ef-4d60-8788-4f482aee3b59"
      },
      "execution_count": 16,
      "outputs": [
        {
          "output_type": "stream",
          "name": "stdout",
          "text": [
            "/root/.cargo/bin:/opt/bin:/usr/local/nvidia/bin:/usr/local/cuda/bin:/usr/local/sbin:/usr/local/bin:/usr/sbin:/usr/bin:/sbin:/bin:/tools/node/bin:/tools/google-cloud-sdk/bin\n"
          ]
        }
      ]
    },
    {
      "cell_type": "markdown",
      "source": [
        "Você deve ver algo como /root/.cargo/bin no output. Caso nao veja, podemos seguir os passos abaixo."
      ],
      "metadata": {
        "id": "vjjm0eW66Qoh"
      }
    },
    {
      "cell_type": "markdown",
      "source": [
        "Configure as Variáveis de Ambiente (Se Necessário):\n",
        "\n",
        "Execute a seguinte célula no seu Colab para configurar as variáveis de ambiente (Mesmo que você tenha encontrado o caminho na variável PATH acima, execute esse código para ter certeza que ele foi setado no Colab):"
      ],
      "metadata": {
        "id": "S4gKgkIh6Tvz"
      }
    },
    {
      "cell_type": "code",
      "source": [
        "import os\n",
        "os.environ['PATH'] = f\"{os.environ['HOME']}/.cargo/bin:\" + os.environ['PATH']\n",
        "!source $HOME/.cargo/env"
      ],
      "metadata": {
        "id": "_eqy8xyk3HDb"
      },
      "execution_count": 15,
      "outputs": []
    },
    {
      "cell_type": "markdown",
      "source": [
        "Verifique a Instalação do Cargo:\n",
        "\n",
        "Agora, execute o seguinte comando em uma nova célula:"
      ],
      "metadata": {
        "id": "eLp27hTL6XnS"
      }
    },
    {
      "cell_type": "code",
      "source": [
        "!cargo --version"
      ],
      "metadata": {
        "colab": {
          "base_uri": "https://localhost:8080/"
        },
        "id": "GrI_kc763NLP",
        "outputId": "a15b5cee-f0e4-4afb-dbe0-71c6334276e5"
      },
      "execution_count": 17,
      "outputs": [
        {
          "output_type": "stream",
          "name": "stdout",
          "text": [
            "cargo 1.84.0 (66221abde 2024-11-19)\n"
          ]
        }
      ]
    },
    {
      "cell_type": "markdown",
      "source": [
        "Se a instalação foi bem-sucedida, você verá a versão do Rust instalada no Colab.\n",
        "\n",
        "Crie uma Pasta para seus Projetos:\n",
        "\n",
        "Para organizar seus projetos, crie uma pasta. Execute o seguinte comando em uma nova célula de código:"
      ],
      "metadata": {
        "id": "89KcprbY5wWA"
      }
    },
    {
      "cell_type": "code",
      "source": [
        "!mkdir projetos_rust"
      ],
      "metadata": {
        "colab": {
          "base_uri": "https://localhost:8080/"
        },
        "id": "bxjGAHiU2GMt",
        "outputId": "a27e09a7-70b6-4359-8805-c5f20e03ce92"
      },
      "execution_count": 19,
      "outputs": [
        {
          "output_type": "stream",
          "name": "stdout",
          "text": [
            "mkdir: cannot create directory ‘projetos_rust’: File exists\n",
            "/content/projetos_rust\n"
          ]
        }
      ]
    },
    {
      "cell_type": "markdown",
      "source": [
        "E em seguida, entre na pasta:"
      ],
      "metadata": {
        "id": "1zkFMUrx50zl"
      }
    },
    {
      "cell_type": "code",
      "source": [
        "%cd projetos_rust"
      ],
      "metadata": {
        "id": "ARVRUkNW521b"
      },
      "execution_count": null,
      "outputs": []
    },
    {
      "cell_type": "markdown",
      "source": [
        "Crie seu Primeiro Projeto:\n",
        "\n",
        "Use o cargo para criar um projeto novo, chamado \"hello_world\":"
      ],
      "metadata": {
        "id": "HFFEvx8l55eI"
      }
    },
    {
      "cell_type": "code",
      "source": [
        "!cargo new hello_world"
      ],
      "metadata": {
        "colab": {
          "base_uri": "https://localhost:8080/"
        },
        "id": "H0WnkOF22KsN",
        "outputId": "806066c4-170e-438c-d810-c58ffbac3b1d"
      },
      "execution_count": 20,
      "outputs": [
        {
          "output_type": "stream",
          "name": "stdout",
          "text": [
            "\u001b[1m\u001b[32m    Creating\u001b[0m binary (application) `hello_world` package\n",
            "\u001b[1m\u001b[36mnote\u001b[0m\u001b[1m:\u001b[0m see more `Cargo.toml` keys and their definitions at https://doc.rust-lang.org/cargo/reference/manifest.html\n"
          ]
        }
      ]
    },
    {
      "cell_type": "markdown",
      "source": [
        "Entre na pasta do projeto:"
      ],
      "metadata": {
        "id": "41RQ_4EX58yU"
      }
    },
    {
      "cell_type": "code",
      "source": [
        "%cd hello_world"
      ],
      "metadata": {
        "colab": {
          "base_uri": "https://localhost:8080/"
        },
        "id": "ZS6WGi9c2zYO",
        "outputId": "87c60c48-d48f-4661-ae67-e247001f38d2"
      },
      "execution_count": 21,
      "outputs": [
        {
          "output_type": "stream",
          "name": "stdout",
          "text": [
            "/content/projetos_rust/hello_world\n"
          ]
        }
      ]
    },
    {
      "cell_type": "markdown",
      "source": [
        "Execute seu primeiro código:\n",
        "\n",
        "Execute o código padrão do cargo:"
      ],
      "metadata": {
        "id": "ACWlg9Cf6ATw"
      }
    },
    {
      "cell_type": "code",
      "source": [
        "!cargo run"
      ],
      "metadata": {
        "colab": {
          "base_uri": "https://localhost:8080/"
        },
        "id": "1YfOVPwH3bAD",
        "outputId": "3ce3f1d8-5ddc-44b6-93fc-06a646e50551"
      },
      "execution_count": 22,
      "outputs": [
        {
          "output_type": "stream",
          "name": "stdout",
          "text": [
            "\u001b[1m\u001b[32m   Compiling\u001b[0m hello_world v0.1.0 (/content/projetos_rust/hello_world)\n",
            "\u001b[1m\u001b[32m    Finished\u001b[0m `dev` profile [unoptimized + debuginfo] target(s) in 0.36s\n",
            "\u001b[1m\u001b[32m     Running\u001b[0m `target/debug/hello_world`\n",
            "Hello, world!\n"
          ]
        }
      ]
    },
    {
      "cell_type": "markdown",
      "source": [
        "Próximo Passo: Análise do \"Olá, Mundo!\"\n",
        "\n",
        "Vamos dar uma olhada no código do seu programa \"Olá, Mundo!\" que o cargo gerou para você. Se você for para o diretório /content/projetos_rust/hello_world/src, deverá haver um arquivo chamado main.rs. Use o seguinte comando para ver o conteúdo dele:"
      ],
      "metadata": {
        "id": "_9yhA-1u6ig6"
      }
    },
    {
      "cell_type": "code",
      "source": [
        "!cat src/main.rs"
      ],
      "metadata": {
        "colab": {
          "base_uri": "https://localhost:8080/"
        },
        "id": "3D-ga7gw3rif",
        "outputId": "245c6420-d0de-4270-c14b-3e3377bc9629"
      },
      "execution_count": 23,
      "outputs": [
        {
          "output_type": "stream",
          "name": "stdout",
          "text": [
            "fn main() {\n",
            "    println!(\"Hello, world!\");\n",
            "}\n"
          ]
        }
      ]
    },
    {
      "cell_type": "markdown",
      "source": [
        "Passos para Editar o Arquivo main.rs (sem o nano):\n",
        "\n",
        "Use echo para Sobrescrever o Arquivo:\n",
        "\n",
        "Execute o seguinte comando em uma célula de código, substituindo [Seu Nome] pelo seu nome:"
      ],
      "metadata": {
        "id": "oB_SIKmu6rio"
      }
    },
    {
      "cell_type": "code",
      "source": [
        "!echo 'fn main() { println!(\"Olá, Fernando Torres!\"); }' > src/main.rs"
      ],
      "metadata": {
        "id": "R2kn1oIZ4FJs"
      },
      "execution_count": 31,
      "outputs": []
    },
    {
      "cell_type": "code",
      "source": [
        "!cat src/main.rs"
      ],
      "metadata": {
        "colab": {
          "base_uri": "https://localhost:8080/"
        },
        "id": "cCMmbW7n356k",
        "outputId": "a868370b-7240-4bab-8d26-282070a25f46"
      },
      "execution_count": 32,
      "outputs": [
        {
          "output_type": "stream",
          "name": "stdout",
          "text": [
            "fn main() { println!(\"Olá, Fernando Torres!\"); }\n"
          ]
        }
      ]
    },
    {
      "cell_type": "code",
      "source": [
        "!cargo run"
      ],
      "metadata": {
        "colab": {
          "base_uri": "https://localhost:8080/"
        },
        "id": "B6nycZWk4yVQ",
        "outputId": "dd95ec2e-36fc-415f-9870-676a22ff7f1b"
      },
      "execution_count": 33,
      "outputs": [
        {
          "output_type": "stream",
          "name": "stdout",
          "text": [
            "\u001b[1m\u001b[32m   Compiling\u001b[0m hello_world v0.1.0 (/content/projetos_rust/hello_world)\n",
            "\u001b[1m\u001b[32m    Finished\u001b[0m `dev` profile [unoptimized + debuginfo] target(s) in 0.26s\n",
            "\u001b[1m\u001b[32m     Running\u001b[0m `target/debug/hello_world`\n",
            "Olá, Fernando Torres!\n"
          ]
        }
      ]
    },
    {
      "cell_type": "markdown",
      "source": [
        "Próximo Tópico: Variáveis e Tipos de Dados\n",
        "\n",
        "Um dos fundamentos da programação é a capacidade de armazenar dados. Em Rust, fazemos isso com variáveis. Vamos explorar como declarar variáveis, os diferentes tipos de dados e como usá-los.\n",
        "\n",
        "1. Declaração de Variáveis:\n",
        "\n",
        "Em Rust, usamos a palavra-chave let para declarar variáveis:"
      ],
      "metadata": {
        "id": "fAfyvVOt5ani"
      }
    },
    {
      "cell_type": "code",
      "source": [
        "let x = 5;"
      ],
      "metadata": {
        "id": "DyDtW-pA5CrQ"
      },
      "execution_count": null,
      "outputs": []
    },
    {
      "cell_type": "markdown",
      "source": [
        "Isso declara uma variável chamada x e atribui o valor 5 a ela.\n",
        "\n",
        "Por padrão, as variáveis em Rust são imutáveis, ou seja, seus valores não podem ser alterados depois de declaradas.\n",
        "\n",
        "Para declarar uma variável mutável (que pode ser alterada), usamos a palavra-chave mut:"
      ],
      "metadata": {
        "id": "dMDCb7sd6zTV"
      }
    },
    {
      "cell_type": "code",
      "source": [
        "let mut y = 10;\n",
        "y = 20; // Agora, o valor de y é 20"
      ],
      "metadata": {
        "id": "kohIsxH25EMn"
      },
      "execution_count": null,
      "outputs": []
    },
    {
      "cell_type": "markdown",
      "source": [
        "Tipos de Dados:\n",
        "\n",
        "Rust é uma linguagem fortemente tipada, ou seja, cada valor tem um tipo de dado específico. O compilador do Rust geralmente pode inferir o tipo de dado automaticamente, mas você também pode especificá-lo manualmente.\n",
        "\n",
        "Alguns tipos de dados básicos em Rust incluem:\n",
        "\n",
        "Inteiros:\n",
        "\n",
        "i32 (inteiro de 32 bits, o padrão)\n",
        "\n",
        "i64 (inteiro de 64 bits)\n",
        "\n",
        "u32 (inteiro sem sinal de 32 bits)\n",
        "\n",
        "u64 (inteiro sem sinal de 64 bits)"
      ],
      "metadata": {
        "id": "svj88MiT63c9"
      }
    },
    {
      "cell_type": "code",
      "source": [
        "let idade: i32 = 30; // Inteiro com sinal de 32 bits\n",
        "let numero_grande: i64 = 1000000000; // Inteiro com sinal de 64 bits"
      ],
      "metadata": {
        "id": "QXJbrsmL5Ggs"
      },
      "execution_count": null,
      "outputs": []
    },
    {
      "cell_type": "markdown",
      "source": [
        "Números de Ponto Flutuante:\n",
        "\n",
        "f32 (ponto flutuante de 32 bits)\n",
        "\n",
        "f64 (ponto flutuante de 64 bits, o padrão)"
      ],
      "metadata": {
        "id": "7MluUvhU67PQ"
      }
    },
    {
      "cell_type": "code",
      "source": [
        "let preco: f64 = 99.99; // Número de ponto flutuante de 64 bits"
      ],
      "metadata": {
        "id": "Annfj7805Hrm"
      },
      "execution_count": null,
      "outputs": []
    },
    {
      "cell_type": "markdown",
      "source": [
        "Booleano:\n",
        "\n",
        "bool (valores true ou false)"
      ],
      "metadata": {
        "id": "P3YDWTgj6-vo"
      }
    },
    {
      "cell_type": "code",
      "source": [
        "let esta_ativo: bool = true; // Booleano"
      ],
      "metadata": {
        "id": "dQ9MD0ey5I7u"
      },
      "execution_count": null,
      "outputs": []
    },
    {
      "cell_type": "markdown",
      "source": [
        "Caracteres:\n",
        "\n",
        "char (representa um caractere Unicode, 4 bytes)"
      ],
      "metadata": {
        "id": "tD9_DjBu7Bde"
      }
    },
    {
      "cell_type": "code",
      "source": [
        "let letra: char = 'A'; // Caractere"
      ],
      "metadata": {
        "id": "OstqBS605KMh"
      },
      "execution_count": null,
      "outputs": []
    },
    {
      "cell_type": "markdown",
      "source": [
        "Strings:\n",
        "\n",
        "String (string mutável, alocada dinamicamente)\n",
        "\n",
        "&str (slice de string, imutável)"
      ],
      "metadata": {
        "id": "pkf9Wec87EuN"
      }
    },
    {
      "cell_type": "code",
      "source": [
        "let nome: String = String::from(\"Rust\"); // String\n",
        "let mensagem: &str = \"Olá, mundo!\"; // Slice de string"
      ],
      "metadata": {
        "id": "b-pdIrum5Mj0"
      },
      "execution_count": null,
      "outputs": []
    },
    {
      "cell_type": "markdown",
      "source": [
        "Exemplo Completo:\n",
        "\n",
        "Vamos criar um novo arquivo src/main.rs com as seguintes linhas:"
      ],
      "metadata": {
        "id": "xz2Vo0UJ7Ir-"
      }
    },
    {
      "cell_type": "code",
      "source": [
        "fn main() {\n",
        "    let nome: String = String::from(\"Fernando Torres\");\n",
        "    let idade: i32 = 30;\n",
        "    let altura: f64 = 1.80;\n",
        "    let esta_ativo: bool = true;\n",
        "    let inicial: char = 'F';\n",
        "\n",
        "    println!(\"Nome: {}\", nome);\n",
        "    println!(\"Idade: {}\", idade);\n",
        "    println!(\"Altura: {}\", altura);\n",
        "    println!(\"Está ativo: {}\", esta_ativo);\n",
        "    println!(\"Inicial: {}\", inicial);\n",
        "}"
      ],
      "metadata": {
        "id": "s-O5foe57LEN"
      },
      "execution_count": null,
      "outputs": []
    },
    {
      "cell_type": "markdown",
      "source": [
        "Solução 1: Usando Aspas Simples e Duplas com Concatenação:\n",
        "\n",
        "Quebrando a String: Vamos quebrar a string do código Rust em várias partes e concatená-las usando aspas simples e duplas, com aspas escapadas:"
      ],
      "metadata": {
        "id": "jEdewVypBdbF"
      }
    },
    {
      "cell_type": "code",
      "source": [
        "!print 'fn main() {let nome: String = String::from(\"Fernando Torres\"); let idade: i32 = 30; let altura: f64 = 1.80; let esta_ativo: bool = true; let inicial: char = \\'F\\'; println!(\"Nome: %s\", nome); println!(\"Idade: %d\", idade); println!(\"Altura: %f\", altura); println!(\"Está ativo: %t\", esta_ativo); println!(\"Inicial: %c\", inicial); }' > src/main.rs"
      ],
      "metadata": {
        "colab": {
          "base_uri": "https://localhost:8080/"
        },
        "id": "2H4sNpc47Wvz",
        "outputId": "6c5f8da4-662f-4756-e54b-1f71bf86a088"
      },
      "execution_count": 58,
      "outputs": [
        {
          "output_type": "stream",
          "name": "stdout",
          "text": [
            "/bin/bash: -c: line 1: syntax error near unexpected token `\"Nome: %s\",'\n",
            "/bin/bash: -c: line 1: `echo 'fn main() {let nome: String = String::from(\"Fernando Torres\"); let idade: i32 = 30; let altura: f64 = 1.80; let esta_ativo: bool = true; let inicial: char = \\'F\\'; println!(\"Nome: %s\", nome); println!(\"Idade: %d\", idade); println!(\"Altura: %f\", altura); println!(\"Está ativo: %t\", esta_ativo); println!(\"Inicial: %c\", inicial); }' > src/main.rs'\n"
          ]
        }
      ]
    },
    {
      "cell_type": "code",
      "source": [
        "!cat src/main.rs"
      ],
      "metadata": {
        "colab": {
          "base_uri": "https://localhost:8080/"
        },
        "id": "37MAzh9175k5",
        "outputId": "63f27dc7-9b27-476d-9455-6bbed78ab081"
      },
      "execution_count": 59,
      "outputs": [
        {
          "output_type": "stream",
          "name": "stdout",
          "text": [
            "{}\", inicial); }\n"
          ]
        }
      ]
    },
    {
      "cell_type": "code",
      "source": [
        "!cargo run"
      ],
      "metadata": {
        "colab": {
          "base_uri": "https://localhost:8080/"
        },
        "id": "lGKCnvW07_f0",
        "outputId": "fb78ef7f-0131-4296-928b-3e2316bcfedd"
      },
      "execution_count": 53,
      "outputs": [
        {
          "output_type": "stream",
          "name": "stdout",
          "text": [
            "\u001b[1m\u001b[32m   Compiling\u001b[0m hello_world v0.1.0 (/content/projetos_rust/hello_world)\n",
            "\u001b[0m\u001b[1m\u001b[38;5;9merror[E0308]\u001b[0m\u001b[0m\u001b[1m: mismatched types\u001b[0m\n",
            "\u001b[0m \u001b[0m\u001b[0m\u001b[1m\u001b[38;5;12m--> \u001b[0m\u001b[0msrc/main.rs:1:158\u001b[0m\n",
            "\u001b[0m  \u001b[0m\u001b[0m\u001b[1m\u001b[38;5;12m|\u001b[0m\n",
            "\u001b[0m\u001b[1m\u001b[38;5;12m1\u001b[0m\u001b[0m \u001b[0m\u001b[0m\u001b[1m\u001b[38;5;12m|\u001b[0m\u001b[0m \u001b[0m\u001b[0m\u001b[1m\u001b[38;5;12m...\u001b[0m\u001b[0m.80; let esta_ativo: bool = true; let inicial: char = \"F\"; println!(\"Nome: {}\", nome); println!(\"Idade: {}\", idade); println!(\"Altura:\u001b[0m\u001b[0m\u001b[1m\u001b[38;5;12m...\u001b[0m\n",
            "\u001b[0m  \u001b[0m\u001b[0m\u001b[1m\u001b[38;5;12m|\u001b[0m\u001b[0m                                                   \u001b[0m\u001b[0m\u001b[1m\u001b[38;5;12m----\u001b[0m\u001b[0m   \u001b[0m\u001b[0m\u001b[1m\u001b[38;5;9m^^^\u001b[0m\u001b[0m \u001b[0m\u001b[0m\u001b[1m\u001b[38;5;9mexpected `char`, found `&str`\u001b[0m\n",
            "\u001b[0m  \u001b[0m\u001b[0m\u001b[1m\u001b[38;5;12m|\u001b[0m\u001b[0m                                                   \u001b[0m\u001b[0m\u001b[1m\u001b[38;5;12m|\u001b[0m\n",
            "\u001b[0m  \u001b[0m\u001b[0m\u001b[1m\u001b[38;5;12m|\u001b[0m\u001b[0m                                                   \u001b[0m\u001b[0m\u001b[1m\u001b[38;5;12mexpected due to this\u001b[0m\n",
            "\u001b[0m  \u001b[0m\u001b[0m\u001b[1m\u001b[38;5;12m|\u001b[0m\n",
            "\u001b[0m\u001b[1m\u001b[38;5;14mhelp\u001b[0m\u001b[0m: if you meant to write a `char` literal, use single quotes\u001b[0m\n",
            "\u001b[0m  \u001b[0m\u001b[0m\u001b[1m\u001b[38;5;12m|\u001b[0m\n",
            "\u001b[0m\u001b[1m\u001b[38;5;12m1\u001b[0m\u001b[0m \u001b[0m\u001b[0m\u001b[1m\u001b[38;5;12m| \u001b[0m\u001b[0mfn main() {let nome: String = String::from(\"Fernando Torres\"); let idade: i32 = 30; let altura: f64 = 1.80; let esta_ativo: bool = true; let inicial: char = \u001b[0m\u001b[0m\u001b[38;5;10m'F'\u001b[0m\u001b[0m; println!(\"Nome: {}\", nome); println!(\"Idade: {}\", idade); println!(\"Altura: {}\", altura); println!(\"Está ativo: {}\", esta_ativo); println!(\"Inicial: {}\", inicial); }\u001b[0m\n",
            "\u001b[0m  \u001b[0m\u001b[0m\u001b[1m\u001b[38;5;12m|\u001b[0m\u001b[0m                                                                                                                                                              \u001b[0m\u001b[0m\u001b[38;5;10m~~~\u001b[0m\n",
            "\n",
            "\u001b[0m\u001b[1mFor more information about this error, try `rustc --explain E0308`.\u001b[0m\n",
            "\u001b[1m\u001b[31merror\u001b[0m\u001b[1m:\u001b[0m could not compile `hello_world` (bin \"hello_world\") due to 1 previous error\n"
          ]
        }
      ]
    }
  ]
}